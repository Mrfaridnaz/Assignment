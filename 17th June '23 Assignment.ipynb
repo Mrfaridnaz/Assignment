{
 "cells": [
  {
   "cell_type": "code",
   "execution_count": null,
   "id": "initial_id",
   "metadata": {
    "collapsed": true
   },
   "outputs": [],
   "source": ""
  },
  {
   "metadata": {},
   "cell_type": "code",
   "outputs": [],
   "execution_count": null,
   "source": "1. What is the role of try and exception block?",
   "id": "c07650616d993e49"
  },
  {
   "metadata": {},
   "cell_type": "code",
   "outputs": [],
   "execution_count": null,
   "source": "The try and except blocks in Python are used for handling exceptions, which are errors that occur during the execution of a program. Here's a breakdown of their roles:",
   "id": "e037241c685cc477"
  },
  {
   "metadata": {},
   "cell_type": "code",
   "outputs": [],
   "execution_count": null,
   "source": [
    "try Block\n",
    "Purpose: To define a block of code that might raise an exception. This is where you place code that you think might cause an error.\n",
    "Behavior: If an error occurs within the try block, Python will stop executing the code in that block and immediately jump to the corresponding except block."
   ],
   "id": "b63a6a1fd6dbc0fb"
  },
  {
   "metadata": {},
   "cell_type": "code",
   "outputs": [],
   "execution_count": null,
   "source": [
    "except Block\n",
    "Purpose: To define how to handle specific exceptions that are raised in the try block.\n",
    "Behavior: If an error that matches the type of exception specified in the except block occurs in the try block, Python will execute the code inside the except block. You can have multiple except blocks to handle different types of exceptions."
   ],
   "id": "5c7b06431baa31e6"
  },
  {
   "metadata": {
    "ExecuteTime": {
     "end_time": "2024-08-12T03:56:06.557627Z",
     "start_time": "2024-08-12T03:56:06.545624Z"
    }
   },
   "cell_type": "code",
   "source": [
    "try:\n",
    "    # Code that might raise an exception\n",
    "    result = 10 / 0  # This will raise a ZeroDivisionError\n",
    "except ZeroDivisionError:\n",
    "    # Code to handle the exception\n",
    "    print(\"Cannot divide by zero!\")\n",
    "except Exception as e:\n",
    "    # This catches any other exceptions\n",
    "    print(f\"An error occurred: {e}\")\n",
    "else:\n",
    "    # Executes if no exceptions were raised\n",
    "    print(f\"Result is {result}\")\n",
    "finally:\n",
    "    # Always executes, regardless of whether an exception occurred\n",
    "    print(\"Execution complete.\")\n"
   ],
   "id": "5951d0f998455433",
   "outputs": [
    {
     "name": "stdout",
     "output_type": "stream",
     "text": [
      "Cannot divide by zero!\n",
      "Execution complete.\n"
     ]
    }
   ],
   "execution_count": 2
  },
  {
   "metadata": {},
   "cell_type": "code",
   "outputs": [],
   "execution_count": null,
   "source": "2. What is the syntax for a basic try-except block?",
   "id": "aceb52e16ab0c038"
  },
  {
   "metadata": {},
   "cell_type": "code",
   "outputs": [],
   "execution_count": null,
   "source": "The basic syntax for a try-except block in Python is as follows:",
   "id": "9289b2e89464291d"
  },
  {
   "metadata": {
    "ExecuteTime": {
     "end_time": "2024-08-12T03:57:53.453702Z",
     "start_time": "2024-08-12T03:57:53.441284Z"
    }
   },
   "cell_type": "code",
   "source": [
    "try:\n",
    "    # Code that might raise an exception\n",
    "    # ...\n",
    "except ExceptionType:\n",
    "    # Code to handle the exception\n",
    "    # ...\n"
   ],
   "id": "87c5d9d173a40340",
   "outputs": [
    {
     "name": "stdout",
     "output_type": "stream",
     "text": [
      "Cannot divide by zero!\n"
     ]
    }
   ],
   "execution_count": 4
  },
  {
   "metadata": {
    "ExecuteTime": {
     "end_time": "2024-08-12T04:00:04.438377Z",
     "start_time": "2024-08-12T04:00:04.426284Z"
    }
   },
   "cell_type": "code",
   "source": [
    "try:\n",
    "    # Attempt to divide by zero\n",
    "    result = 10 / 0\n",
    "except ZeroDivisionError:\n",
    "    # Handle the division by zero error\n",
    "    print(\"Cannot divide by zero!\")\n"
   ],
   "id": "60c45439e312c859",
   "outputs": [
    {
     "name": "stdout",
     "output_type": "stream",
     "text": [
      "Cannot divide by zero!\n"
     ]
    }
   ],
   "execution_count": 7
  },
  {
   "metadata": {},
   "cell_type": "code",
   "outputs": [],
   "execution_count": null,
   "source": "You can handle multiple exceptions by using multiple except blocks:",
   "id": "302ecc12b7cddd25"
  },
  {
   "metadata": {
    "ExecuteTime": {
     "end_time": "2024-08-12T04:01:01.838141Z",
     "start_time": "2024-08-12T04:01:01.826673Z"
    }
   },
   "cell_type": "code",
   "source": [
    "try:\n",
    "    # Code that might raise an exception\n",
    "    # ...\n",
    "except ZeroDivisionError:\n",
    "    # Handle division by zero\n",
    "    print(\"Cannot divide by zero!\")\n",
    "except FileNotFoundError:\n",
    "    # Handle file not found error\n",
    "    print(\"File not found!\")\n"
   ],
   "id": "ebec5f209c56bde2",
   "outputs": [
    {
     "ename": "IndentationError",
     "evalue": "expected an indented block (4077167778.py, line 4)",
     "output_type": "error",
     "traceback": [
      "\u001B[1;36m  Cell \u001B[1;32mIn[8], line 4\u001B[1;36m\u001B[0m\n\u001B[1;33m    except ZeroDivisionError:\u001B[0m\n\u001B[1;37m    ^\u001B[0m\n\u001B[1;31mIndentationError\u001B[0m\u001B[1;31m:\u001B[0m expected an indented block\n"
     ]
    }
   ],
   "execution_count": 8
  },
  {
   "metadata": {},
   "cell_type": "code",
   "outputs": [],
   "execution_count": null,
   "source": [
    "\n",
    "\n",
    "\n",
    "4. What is the difference between using a bare except block and specifying a specific\n",
    "exception type?\n",
    "5. Can you have nested try-except blocks in Python? If yes, then give an example.\n",
    "6. Can we use multiple exception blocks, if yes then give an example.\n",
    "7. Write the reason due to which following errors are raised:\n",
    "a. EOFError\n",
    "b. FloatingPointError\n",
    "c. IndexError\n",
    "d. MemoryError\n",
    "e. OverflowError\n",
    "f. TabError\n",
    "g. ValueError\n",
    "8. Write code for the following given scenario and add try-exception block to it.\n",
    "a. Program to divide two numbers\n",
    "b. Program to convert a string to an integer\n",
    "c. Program to access an element in a list\n",
    "d. Program to handle a specific exception\n",
    "e. Program to handle any exception"
   ],
   "id": "575e282a6b3befa1"
  },
  {
   "metadata": {},
   "cell_type": "code",
   "outputs": [],
   "execution_count": null,
   "source": [
    "3. What happens if an exception occurs inside a try block and there is no matching\n",
    "except block?"
   ],
   "id": "fc5fa2c0daa20e1d"
  },
  {
   "metadata": {},
   "cell_type": "code",
   "outputs": [],
   "execution_count": null,
   "source": [
    "If an exception occurs inside a try block and there is no matching except block to handle that exception, the following happens:\n",
    "\n",
    "Uncaught Exception: The exception is considered uncaught. Since there is no except block to handle it, the program cannot resolve the error.\n",
    "\n",
    "Program Termination: The Python interpreter will terminate the program and display a traceback. This traceback includes details about the exception, such as the type of exception, the error message, and the stack trace showing where the exception occurred.\n",
    "\n",
    "Traceback Information: The traceback helps in debugging by showing the sequence of function calls that led to the exception. It provides information about the file and line number where the exception was raised."
   ],
   "id": "f209600b7c1839e4"
  },
  {
   "metadata": {},
   "cell_type": "code",
   "outputs": [],
   "execution_count": null,
   "source": "Here's a simple example to illustrate this behavior:",
   "id": "dd3b6f1b24969a97"
  },
  {
   "metadata": {
    "ExecuteTime": {
     "end_time": "2024-08-12T04:03:26.578202Z",
     "start_time": "2024-08-12T04:03:26.565808Z"
    }
   },
   "cell_type": "code",
   "source": [
    "try:\n",
    "    # Code that raises an exception\n",
    "    result = 10 / 0\n",
    "# No except block to handle the exception"
   ],
   "id": "7cf1d454cfaadc52",
   "outputs": [],
   "execution_count": 9
  },
  {
   "metadata": {},
   "cell_type": "code",
   "outputs": [],
   "execution_count": null,
   "source": "In this case, since there is no except block, the output will be a traceback similar to this:",
   "id": "4352581a67e43fb3"
  },
  {
   "metadata": {
    "ExecuteTime": {
     "end_time": "2024-08-12T04:03:51.963278Z",
     "start_time": "2024-08-12T04:03:51.950448Z"
    }
   },
   "cell_type": "code",
   "source": [
    "Traceback (most recent call last):\n",
    "  File \"example.py\", line 2, in <module>\n",
    "    result = 10 / 0\n",
    "ZeroDivisionError: division by zero\n"
   ],
   "id": "b5c33751f3abd5e7",
   "outputs": [
    {
     "ename": "SyntaxError",
     "evalue": "invalid syntax (560407259.py, line 1)",
     "output_type": "error",
     "traceback": [
      "\u001B[1;36m  Cell \u001B[1;32mIn[10], line 1\u001B[1;36m\u001B[0m\n\u001B[1;33m    Traceback (most recent call last):\u001B[0m\n\u001B[1;37m                    ^\u001B[0m\n\u001B[1;31mSyntaxError\u001B[0m\u001B[1;31m:\u001B[0m invalid syntax\n"
     ]
    }
   ],
   "execution_count": 10
  },
  {
   "metadata": {},
   "cell_type": "code",
   "outputs": [],
   "execution_count": null,
   "source": "",
   "id": "41dab49c9bf3f646"
  }
 ],
 "metadata": {
  "kernelspec": {
   "display_name": "Python 3",
   "language": "python",
   "name": "python3"
  },
  "language_info": {
   "codemirror_mode": {
    "name": "ipython",
    "version": 2
   },
   "file_extension": ".py",
   "mimetype": "text/x-python",
   "name": "python",
   "nbconvert_exporter": "python",
   "pygments_lexer": "ipython2",
   "version": "2.7.6"
  }
 },
 "nbformat": 4,
 "nbformat_minor": 5
}
