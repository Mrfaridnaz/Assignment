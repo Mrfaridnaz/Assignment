{
 "cells": [
  {
   "cell_type": "markdown",
   "id": "6e0e56eb",
   "metadata": {},
   "source": [
    "#### 1.What exactly is []?"
   ]
  },
  {
   "cell_type": "code",
   "execution_count": 1,
   "id": "116b83fc",
   "metadata": {},
   "outputs": [
    {
     "data": {
      "text/plain": [
       "'Index bracket, it is also used to write expressions that evaluate to a single item within a list, or a single character in a string'"
      ]
     },
     "execution_count": 1,
     "metadata": {},
     "output_type": "execute_result"
    }
   ],
   "source": [
    "\"\"\"Index bracket, it is also used to write expressions that evaluate to a single item within a list, or a single character in a string\"\"\""
   ]
  },
  {
   "cell_type": "markdown",
   "id": "019ed189",
   "metadata": {},
   "source": [
    "#### 2.In a list of values stored in a variable called spam, how would you assign the value 'hello' as the third value? (Assume [2, 4, 6, 8, 10] are in spam.)"
   ]
  },
  {
   "cell_type": "code",
   "execution_count": 4,
   "id": "39bf8a39",
   "metadata": {},
   "outputs": [],
   "source": [
    "spam = [2, 4, 6, 8, 10]"
   ]
  },
  {
   "cell_type": "code",
   "execution_count": 10,
   "id": "3d9ab535",
   "metadata": {},
   "outputs": [],
   "source": [
    "spam[2]=\"hello\""
   ]
  },
  {
   "cell_type": "code",
   "execution_count": 11,
   "id": "ab0e980f",
   "metadata": {},
   "outputs": [
    {
     "data": {
      "text/plain": [
       "[2, 4, 'hello', 8, 10]"
      ]
     },
     "execution_count": 11,
     "metadata": {},
     "output_type": "execute_result"
    }
   ],
   "source": [
    "spam"
   ]
  },
  {
   "cell_type": "markdown",
   "id": "3ef3ca4d",
   "metadata": {},
   "source": [
    "### Let's pretend the spam includes the list ['a', 'b', 'c', 'd'] for the next three queries."
   ]
  },
  {
   "cell_type": "code",
   "execution_count": 12,
   "id": "d4b3b831",
   "metadata": {},
   "outputs": [],
   "source": [
    "spam=['a', 'b', 'c', 'd']"
   ]
  },
  {
   "cell_type": "markdown",
   "id": "496e0d79",
   "metadata": {},
   "source": [
    "#### 3.What is the value of spam[int(int('3' * 2) / 11)]?"
   ]
  },
  {
   "cell_type": "code",
   "execution_count": 13,
   "id": "9202f0e3",
   "metadata": {},
   "outputs": [
    {
     "data": {
      "text/plain": [
       "'d'"
      ]
     },
     "execution_count": 13,
     "metadata": {},
     "output_type": "execute_result"
    }
   ],
   "source": [
    "spam[int(int('3' * 2) / 11)]"
   ]
  },
  {
   "cell_type": "markdown",
   "id": "43eb9138",
   "metadata": {},
   "source": [
    "#### 4.What is the value of spam[-1]?"
   ]
  },
  {
   "cell_type": "code",
   "execution_count": 14,
   "id": "50a78f4f",
   "metadata": {},
   "outputs": [
    {
     "data": {
      "text/plain": [
       "'d'"
      ]
     },
     "execution_count": 14,
     "metadata": {},
     "output_type": "execute_result"
    }
   ],
   "source": [
    "spam[-1]"
   ]
  },
  {
   "cell_type": "markdown",
   "id": "5dd7381a",
   "metadata": {},
   "source": [
    "#### 5.What is the value of spam[:2]?"
   ]
  },
  {
   "cell_type": "code",
   "execution_count": 16,
   "id": "33d1650c",
   "metadata": {},
   "outputs": [
    {
     "data": {
      "text/plain": [
       "['a', 'b']"
      ]
     },
     "execution_count": 16,
     "metadata": {},
     "output_type": "execute_result"
    }
   ],
   "source": [
    "spam[:2]"
   ]
  },
  {
   "cell_type": "markdown",
   "id": "0de10eb1",
   "metadata": {},
   "source": [
    "#### Let's pretend bacon has the list [3.14, 'cat,' 11, 'cat', True] for the next three questions."
   ]
  },
  {
   "cell_type": "markdown",
   "id": "7c659f4d",
   "metadata": {},
   "source": [
    "#### 6.What is the value of bacon.index('cat')?"
   ]
  },
  {
   "cell_type": "code",
   "execution_count": 32,
   "id": "b7c4c7ae",
   "metadata": {},
   "outputs": [
    {
     "data": {
      "text/plain": [
       "1"
      ]
     },
     "execution_count": 32,
     "metadata": {},
     "output_type": "execute_result"
    }
   ],
   "source": [
    "bacon = [3.14, 'cat', 11, 'cat', True]\n",
    "bacon.index('cat')"
   ]
  },
  {
   "cell_type": "markdown",
   "id": "cc7cd6f4",
   "metadata": {},
   "source": [
    "#### 7.How does bacon.append(99) change the look of the list value in bacon?"
   ]
  },
  {
   "cell_type": "code",
   "execution_count": 33,
   "id": "713b7818",
   "metadata": {},
   "outputs": [],
   "source": [
    "bacon.append(99)"
   ]
  },
  {
   "cell_type": "code",
   "execution_count": 34,
   "id": "4f957d64",
   "metadata": {},
   "outputs": [
    {
     "data": {
      "text/plain": [
       "[3.14, 'cat', 11, 'cat', True, 99]"
      ]
     },
     "execution_count": 34,
     "metadata": {},
     "output_type": "execute_result"
    }
   ],
   "source": [
    "bacon "
   ]
  },
  {
   "cell_type": "markdown",
   "id": "46297d80",
   "metadata": {},
   "source": [
    "#### 8.How does bacon.remove('cat') change the look of the list in bacon?"
   ]
  },
  {
   "cell_type": "code",
   "execution_count": 28,
   "id": "23276460",
   "metadata": {},
   "outputs": [],
   "source": [
    "bacon.remove('cat') "
   ]
  },
  {
   "cell_type": "code",
   "execution_count": 29,
   "id": "ce09c1b6",
   "metadata": {},
   "outputs": [
    {
     "data": {
      "text/plain": [
       "[3.14, 11, True, 99, 99]"
      ]
     },
     "execution_count": 29,
     "metadata": {},
     "output_type": "execute_result"
    }
   ],
   "source": [
    "bacon"
   ]
  },
  {
   "cell_type": "markdown",
   "id": "128c97a5",
   "metadata": {},
   "source": [
    "#### 9.What are the list concatenation and list replication operators?"
   ]
  },
  {
   "cell_type": "code",
   "execution_count": 35,
   "id": "3442776f",
   "metadata": {},
   "outputs": [
    {
     "data": {
      "text/plain": [
       "'In Python, the list concatenation operator is the plus sign (+), and the list replication operator is the asterisk (*) symbol. '"
      ]
     },
     "execution_count": 35,
     "metadata": {},
     "output_type": "execute_result"
    }
   ],
   "source": [
    "\"\"\"In Python, the list concatenation operator is the plus sign (+), and the list replication operator is the asterisk (*) symbol. \"\"\""
   ]
  },
  {
   "cell_type": "markdown",
   "id": "34a3560d",
   "metadata": {},
   "source": [
    "#### 10.What is difference between the list methods append() and insert()?"
   ]
  },
  {
   "cell_type": "markdown",
   "id": "c21597ab",
   "metadata": {},
   "source": [
    "#### -The append() method is used to add an element to the end of a list.\n",
    "#### -The insert() method is used to insert an element at a specific position in a list"
   ]
  },
  {
   "cell_type": "markdown",
   "id": "935779d8",
   "metadata": {},
   "source": [
    "#### 11.What are the two methods for removing items from a list?"
   ]
  },
  {
   "cell_type": "markdown",
   "id": "eacebf15",
   "metadata": {},
   "source": [
    "#### a.Remove()\n",
    "#### b.Pop()"
   ]
  },
  {
   "cell_type": "markdown",
   "id": "3a84a753",
   "metadata": {},
   "source": [
    "#### 12.Describe how list values and string values are identical."
   ]
  },
  {
   "cell_type": "markdown",
   "id": "16fb09e3",
   "metadata": {},
   "source": [
    "##### List values and string values are similar in that they are both types of sequences in many programming languages, including Python. Here are some ways in which they are identical:"
   ]
  },
  {
   "cell_type": "markdown",
   "id": "8382653b",
   "metadata": {},
   "source": [
    "###### Sequential Data: Both lists and strings are sequences of data elements. A string is a sequence of characters, while a list is a sequence of values (which can be of any data type).\n",
    "\n",
    "###### Indexing: You can access individual elements of both lists and strings by using indexing. Elements are ordered and can be accessed by their position in the sequence.\n",
    "\n",
    "###### Slicing: You can extract subparts of both lists and strings using slicing. This allows you to obtain a portion of the sequence by specifying a range of indices.\n",
    "\n",
    "###### Iteration: You can iterate through the elements of both lists and strings using loops. This allows you to process each element one at a time.\n",
    "\n",
    "###### Concatenation: You can combine multiple lists or strings to create a new list or string by concatenating them together.\n",
    "\n",
    "###### Length: You can find the length of both lists and strings using a built-in function or method to determine how many elements or characters are in the sequence.\n",
    "\n",
    "###### Immutability (for strings): In some programming languages like Python, strings are immutable, meaning you cannot change their individual characters. Lists, on the other hand, are mutable and can have their elements modified."
   ]
  },
  {
   "cell_type": "markdown",
   "id": "32afe470",
   "metadata": {},
   "source": [
    "#### 13.What's the difference between tuples and lists?"
   ]
  },
  {
   "cell_type": "markdown",
   "id": "c4dd2577",
   "metadata": {},
   "source": [
    "#### Tuples and lists are used to store collections of items, but they have some fundamental differences. Here is the main difference between tuples and lists:"
   ]
  },
  {
   "cell_type": "markdown",
   "id": "57e42c5f",
   "metadata": {},
   "source": [
    "#### Mutability: Tuples are immutable, meaning their elements cannot be modified once they are created. In contrast, lists are mutable, allowing you to add, remove, or modify elements after creation."
   ]
  },
  {
   "cell_type": "markdown",
   "id": "3d733b0d",
   "metadata": {},
   "source": [
    "#### 14.\tHow do you type a tuple value that only contains the integer 42?"
   ]
  },
  {
   "cell_type": "code",
   "execution_count": 40,
   "id": "45b933e6",
   "metadata": {},
   "outputs": [],
   "source": [
    "my_tuple = (42,)"
   ]
  },
  {
   "cell_type": "code",
   "execution_count": 42,
   "id": "67ae7422",
   "metadata": {},
   "outputs": [
    {
     "data": {
      "text/plain": [
       "tuple"
      ]
     },
     "execution_count": 42,
     "metadata": {},
     "output_type": "execute_result"
    }
   ],
   "source": [
    "type(my_tuple )"
   ]
  },
  {
   "cell_type": "markdown",
   "id": "1a8449a8",
   "metadata": {},
   "source": [
    "#### 15.How do you get a list value's tuple form? How do you get a tuple value's list form?"
   ]
  },
  {
   "cell_type": "code",
   "execution_count": null,
   "id": "5b7862cc",
   "metadata": {},
   "outputs": [],
   "source": [
    "#Let , “Li” is a with having some elements (Values) \n",
    "#Convert the list value in Tuple form :\n",
    "\n",
    "t = tuple([Li])"
   ]
  },
  {
   "cell_type": "code",
   "execution_count": null,
   "id": "a8b9f631",
   "metadata": {},
   "outputs": [],
   "source": [
    "#Convert tuple “t” in List:\n",
    "\n",
    "List=list((t))\n"
   ]
  },
  {
   "cell_type": "markdown",
   "id": "2982bb84",
   "metadata": {},
   "source": [
    "#### 16.Variables that \"contain\" list values are not necessarily lists themselves. Instead, what do they contain?"
   ]
  },
  {
   "cell_type": "code",
   "execution_count": 50,
   "id": "5ee4ff8e",
   "metadata": {},
   "outputs": [
    {
     "data": {
      "text/plain": [
       "'Variables that \"contain\" list values are actually referring to the memory address where the list is stored. These variables are known as references or pointers to the list object.\\n\\nWhen you assign a list to a variable, the variable stores the memory address of the list rather than the actual list data itself. This means that the variable doesn\\'t directly contain the list values, but it holds a reference to the location in memory where the list is stored.\\n'"
      ]
     },
     "execution_count": 50,
     "metadata": {},
     "output_type": "execute_result"
    }
   ],
   "source": [
    "\"\"\"Variables that \"contain\" list values are actually referring to the memory address where the list is stored. These variables are known as references or pointers to the list object.\n",
    "\n",
    "When you assign a list to a variable, the variable stores the memory address of the list rather than the actual list data itself. This means that the variable doesn't directly contain the list values, but it holds a reference to the location in memory where the list is stored.\n",
    "\"\"\""
   ]
  },
  {
   "cell_type": "markdown",
   "id": "ae5aeb6e",
   "metadata": {},
   "source": [
    "#### 17.How do you distinguish between copy.copy() and copy.deepcopy()?"
   ]
  },
  {
   "cell_type": "code",
   "execution_count": 53,
   "id": "06528f07",
   "metadata": {},
   "outputs": [
    {
     "data": {
      "text/plain": [
       "\"copy.copy():\\nThe copy.copy() function performs a shallow copy of an \\nobject.\\nIt creates a new object and then copies the references of the original object's elements to the new object.\""
      ]
     },
     "execution_count": 53,
     "metadata": {},
     "output_type": "execute_result"
    }
   ],
   "source": [
    "\"\"\"copy.copy():\n",
    "The copy.copy() function performs a shallow copy of an \n",
    "object.\n",
    "It creates a new object and then copies the references of the original object's elements to the new object.\"\"\""
   ]
  },
  {
   "cell_type": "code",
   "execution_count": 56,
   "id": "e89e8173",
   "metadata": {},
   "outputs": [
    {
     "data": {
      "text/plain": [
       "'copy.deepcopy():\\nThe copy.deepcopy() function performs a deep copy of an object.\\nIt creates a completely independent copy of the original object and all its nested objects.\\nThis means that changes to any element in the copied object will not affect the original object, and vice versa.\\n'"
      ]
     },
     "execution_count": 56,
     "metadata": {},
     "output_type": "execute_result"
    }
   ],
   "source": [
    "\"\"\"copy.deepcopy():\n",
    "The copy.deepcopy() function performs a deep copy of an object.\n",
    "It creates a completely independent copy of the original object and all its nested objects.\n",
    "This means that changes to any element in the copied object will not affect the original object, and vice versa.\n",
    "\"\"\""
   ]
  },
  {
   "cell_type": "code",
   "execution_count": null,
   "id": "0dedee95",
   "metadata": {},
   "outputs": [],
   "source": []
  }
 ],
 "metadata": {
  "kernelspec": {
   "display_name": "Python 3 (ipykernel)",
   "language": "python",
   "name": "python3"
  },
  "language_info": {
   "codemirror_mode": {
    "name": "ipython",
    "version": 3
   },
   "file_extension": ".py",
   "mimetype": "text/x-python",
   "name": "python",
   "nbconvert_exporter": "python",
   "pygments_lexer": "ipython3",
   "version": "3.10.9"
  }
 },
 "nbformat": 4,
 "nbformat_minor": 5
}
