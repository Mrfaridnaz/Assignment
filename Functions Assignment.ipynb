{
 "cells": [
  {
   "metadata": {},
   "cell_type": "code",
   "outputs": [],
   "execution_count": null,
   "source": [
    "In Python, what is the difference between a built-in function and user-defined function? Provide an\n",
    "example of each."
   ],
   "id": "6fce879293d4374c"
  },
  {
   "metadata": {},
   "cell_type": "code",
   "outputs": [],
   "execution_count": null,
   "source": [
    "The difference between a built-in function and a user-defined function lies in their origin and how they are used:\n",
    "\n",
    "1. Built-in Function:\n",
    "Definition: A built-in function is a function that is pre-defined in Python. These functions are available for use as soon as you start the Python interpreter, without the need to define them yourself.\n",
    "Examples: print(), len(), sum(), max(), etc"
   ],
   "id": "e42c27239a6bce85"
  },
  {
   "metadata": {
    "ExecuteTime": {
     "end_time": "2024-08-12T02:51:35.221175Z",
     "start_time": "2024-08-12T02:51:35.202133Z"
    }
   },
   "cell_type": "code",
   "source": [
    "# Using a built-in function: len()\n",
    "my_list = [1, 2, 3, 4, 5]\n",
    "length = len(my_list)\n",
    "print(f\"The length of the list is: {length}\")"
   ],
   "id": "9be0f653f5089480",
   "outputs": [
    {
     "name": "stdout",
     "output_type": "stream",
     "text": [
      "The length of the list is: 5\n"
     ]
    }
   ],
   "execution_count": 1
  },
  {
   "metadata": {},
   "cell_type": "code",
   "outputs": [],
   "execution_count": null,
   "source": [
    ". User-defined Function:\n",
    "Definition: A user-defined function is a function that is defined by the user using the def keyword. These functions are created to perform specific tasks that are not covered by built-in functions.\n",
    "Examples: Any function you define yourself"
   ],
   "id": "d18e830a049e3bc9"
  },
  {
   "metadata": {
    "ExecuteTime": {
     "end_time": "2024-08-12T02:58:27.648590Z",
     "start_time": "2024-08-12T02:58:27.636191Z"
    }
   },
   "cell_type": "code",
   "source": [
    "# Defining a user-defined function\n",
    "def greet(name):\n",
    "    return f\"Hello, {name}!\"\n",
    "\n",
    "# Using the user-defined function\n",
    "message = greet(\"Farid\")\n",
    "print(message)\n"
   ],
   "id": "25f99b269b1bb16a",
   "outputs": [
    {
     "name": "stdout",
     "output_type": "stream",
     "text": [
      "Hello, Farid!\n"
     ]
    }
   ],
   "execution_count": 2
  },
  {
   "metadata": {},
   "cell_type": "code",
   "outputs": [],
   "execution_count": null,
   "source": [
    "Arguments can be passed to a function in two main ways: positional arguments and keyword arguments. Here's an explanation of each, along with examples.\n",
    "\n",
    "1. Positional Arguments:\n",
    "Definition: Positional arguments are the most straightforward way to pass arguments to a function. The order in which you pass the arguments is critical because the function assigns the values to the parameters based on their position.\n",
    "Usage: When calling the function, the first argument is assigned to the first parameter, the second argument to the second parameter, and so on."
   ],
   "id": "17026f9894b27268"
  },
  {
   "metadata": {
    "ExecuteTime": {
     "end_time": "2024-08-12T02:59:52.004734Z",
     "start_time": "2024-08-12T02:59:51.991511Z"
    }
   },
   "cell_type": "code",
   "source": [
    "def add(a, b):\n",
    "    return a + b\n",
    "\n",
    "# Calling the function with positional arguments\n",
    "result = add(5, 3)\n",
    "print(result)\n"
   ],
   "id": "f625b4973be89f6f",
   "outputs": [
    {
     "name": "stdout",
     "output_type": "stream",
     "text": [
      "8\n"
     ]
    }
   ],
   "execution_count": 3
  },
  {
   "metadata": {},
   "cell_type": "code",
   "outputs": [],
   "execution_count": null,
   "source": [
    "2. Keyword Arguments:\n",
    "Definition: Keyword arguments are arguments passed to a function with the name of the parameter explicitly stated, followed by the value. This allows you to pass arguments in any order.\n",
    "Usage: When calling the function, you specify each argument using the parameter name followed by an equal sign and the value."
   ],
   "id": "daa15361e992f17d"
  },
  {
   "metadata": {
    "ExecuteTime": {
     "end_time": "2024-08-12T03:00:21.995439Z",
     "start_time": "2024-08-12T03:00:21.982474Z"
    }
   },
   "cell_type": "code",
   "source": [
    "def greet(name, greeting):\n",
    "    return f\"{greeting}, {name}!\"\n",
    "\n",
    "# Calling the function with keyword arguments\n",
    "message = greet(name=\"Farid\", greeting=\"Good morning\")\n",
    "print(message)\n"
   ],
   "id": "435b29e67affa5dd",
   "outputs": [
    {
     "name": "stdout",
     "output_type": "stream",
     "text": [
      "Good morning, Farid!\n"
     ]
    }
   ],
   "execution_count": 4
  },
  {
   "metadata": {},
   "cell_type": "code",
   "outputs": [],
   "execution_count": null,
   "source": [
    "Explanation:\n",
    "\n",
    "In this example, name=\"Farid\" explicitly assigns \"Farid\" to the name parameter, and greeting=\"Good morning\" assigns \"Good morning\" to the greeting parameter. The order of the arguments doesn’t matter because they are matched by name."
   ],
   "id": "6bac682e13057562"
  },
  {
   "metadata": {},
   "cell_type": "code",
   "outputs": [],
   "execution_count": null,
   "source": [
    "Key Differences:\n",
    "Positional Arguments:\n",
    "\n",
    "Order matters: The position of each argument is matched with the function parameters in the order they are defined.\n",
    "Useful when you have a small number of arguments and want to keep the function call simple.\n",
    "Keyword Arguments:\n",
    "\n",
    "Order does not matter: Each argument is assigned based on the parameter name, so you can pass them in any order.\n",
    "Useful for functions with many parameters, where specifying names makes the code more readable and less error-prone."
   ],
   "id": "b8ddb5513b5423b4"
  },
  {
   "metadata": {},
   "cell_type": "code",
   "outputs": [],
   "execution_count": null,
   "source": [
    "Combined Use:\n",
    "You can combine positional and keyword arguments in a single function call. However, positional arguments must always come before keyword arguments."
   ],
   "id": "dd6e4a0271654818"
  },
  {
   "metadata": {
    "ExecuteTime": {
     "end_time": "2024-08-12T03:01:25.353610Z",
     "start_time": "2024-08-12T03:01:25.341640Z"
    }
   },
   "cell_type": "code",
   "source": [
    "def describe_pet(pet_name, animal_type=\"dog\"):\n",
    "    print(f\"I have a {animal_type} named {pet_name}.\")\n",
    "\n",
    "# Positional argument for pet_name and keyword argument for animal_type\n",
    "describe_pet(\"Buddy\", animal_type=\"cat\")\n",
    "\n",
    "# Output: I have a cat named Buddy.\n"
   ],
   "id": "721fcf79ae5a6455",
   "outputs": [
    {
     "name": "stdout",
     "output_type": "stream",
     "text": [
      "I have a cat named Buddy.\n"
     ]
    }
   ],
   "execution_count": 5
  },
  {
   "metadata": {},
   "cell_type": "code",
   "outputs": [],
   "execution_count": null,
   "source": [
    "3.  What is the purpose of the return statement in a function? Can a function have multiple return\n",
    "statements? Explain with an example."
   ],
   "id": "8355d3b4c7ec3467"
  },
  {
   "metadata": {},
   "cell_type": "code",
   "outputs": [],
   "execution_count": null,
   "source": [
    "The return statement in a function serves two primary purposes:\n",
    "\n",
    "Exit the Function: The return statement terminates the function's execution and returns control back to the caller.\n",
    "Return a Value: It optionally returns a value (or multiple values) from the function to the caller. The returned value can then be used elsewhere in the program.\n",
    "Can a Function Have Multiple Return Statements?\n",
    "Yes, a function can have multiple return statements. These are typically used in conditional branches within the function, where different conditions might require different return values or where the function should exit early based on certain criteria."
   ],
   "id": "3e6055c71933df96"
  },
  {
   "metadata": {},
   "cell_type": "code",
   "outputs": [],
   "execution_count": null,
   "source": "Here's an example that illustrates both the purpose of the return statement and the use of multiple return statements:",
   "id": "59dd526244d2e10f"
  },
  {
   "metadata": {
    "ExecuteTime": {
     "end_time": "2024-08-12T03:03:34.060591Z",
     "start_time": "2024-08-12T03:03:34.048644Z"
    }
   },
   "cell_type": "code",
   "source": [
    "def check_number(num):\n",
    "    if num > 0:\n",
    "        return \"Positive\"\n",
    "    elif num < 0:\n",
    "        return \"Negative\"\n",
    "    else:\n",
    "        return \"Zero\"\n",
    "\n",
    "# Testing the function with different inputs\n",
    "print(check_number(10))   # Output: Positive\n",
    "print(check_number(-5))   # Output: Negative\n",
    "print(check_number(0))    # Output: Zero\n"
   ],
   "id": "49b53dccbbc05f66",
   "outputs": [
    {
     "name": "stdout",
     "output_type": "stream",
     "text": [
      "Positive\n",
      "Negative\n",
      "Zero\n"
     ]
    }
   ],
   "execution_count": 6
  },
  {
   "metadata": {},
   "cell_type": "code",
   "outputs": [],
   "execution_count": null,
   "source": [
    "Multiple return Statements:\n",
    "\n",
    "The check_number function checks whether the input num is positive, negative, or zero.\n",
    "Depending on the value of num, the function returns one of three possible strings: \"Positive\", \"Negative\", or \"Zero\".\n",
    "Each conditional branch (if, elif, else) has its own return statement, ensuring that the function exits immediately after a match is found, and the corresponding value is returned.\n",
    "Purpose of return:\n",
    "\n",
    "The return statement is used to provide the result of the condition checked back to the caller. For instance, if num is 10, the function returns \"Positive\" and exits."
   ],
   "id": "b66bc89d25d778ae"
  },
  {
   "metadata": {},
   "cell_type": "code",
   "outputs": [],
   "execution_count": null,
   "source": [
    "4.  What are lambda functions in Python? How are they different from regular functions? Provide an\n",
    "example where a lambda function can be useful."
   ],
   "id": "98fb088bf0518355"
  },
  {
   "metadata": {},
   "cell_type": "code",
   "outputs": [],
   "execution_count": null,
   "source": "Lambda functions in Python, also known as anonymous functions, are small, one-line functions defined using the lambda keyword. They can have any number of arguments, but only one expression, which is evaluated and returned. Unlike regular functions, lambda functions do not require a def statement or a name.",
   "id": "43a9c7a4b469d048"
  },
  {
   "metadata": {},
   "cell_type": "code",
   "outputs": [],
   "execution_count": null,
   "source": [
    "Key Differences Between Lambda Functions and Regular Functions:\n",
    "Syntax:\n",
    "\n",
    "Lambda Function: Defined using the lambda keyword and does not require a function name.\n",
    "Regular Function: Defined using the def keyword and usually has a name.\n",
    "Functionality:\n",
    "\n",
    "Lambda Function: Can only contain a single expression; they are often used for short, simple operations.\n",
    "Regular Function: Can contain multiple expressions and statements, including complex logic, loops, and more.\n",
    "Use Case:\n",
    "\n",
    "Lambda Function: Commonly used when a simple function is needed for a short period of time, especially as an argument to higher-order functions like map(), filter(), and sorted().\n",
    "Regular Function: Used for more complex tasks that require multiple lines of code or are reused across the codebase."
   ],
   "id": "721fea3af7e63cae"
  },
  {
   "metadata": {},
   "cell_type": "code",
   "outputs": [],
   "execution_count": null,
   "source": [
    "Example of a Lambda Function:\n",
    "Lambda functions are particularly useful in scenarios where you need a simple function for a short time, such as in sorting or filtering operations.\n",
    "\n",
    "Example: Using a lambda function to sort a list of tuples based on the second element of each tuple."
   ],
   "id": "98fc3cf8ee49cbc"
  },
  {
   "metadata": {
    "ExecuteTime": {
     "end_time": "2024-08-12T03:05:51.639817Z",
     "start_time": "2024-08-12T03:05:51.630169Z"
    }
   },
   "cell_type": "code",
   "source": [
    "# List of tuples\n",
    "data = [(1, 'banana'), (3, 'apple'), (2, 'cherry')]\n",
    "\n",
    "# Sorting the list based on the second element of each tuple\n",
    "sorted_data = sorted(data, key=lambda x: x[1])\n",
    "\n",
    "print(sorted_data)\n"
   ],
   "id": "1ea5966e20a846a2",
   "outputs": [
    {
     "name": "stdout",
     "output_type": "stream",
     "text": [
      "[(3, 'apple'), (1, 'banana'), (2, 'cherry')]\n"
     ]
    }
   ],
   "execution_count": 7
  },
  {
   "metadata": {},
   "cell_type": "code",
   "outputs": [],
   "execution_count": null,
   "source": [
    "Explanation:\n",
    "Lambda Function: lambda x: x[1] is a lambda function that takes an argument x (each tuple in the list) and returns the second element (x[1]) of the tuple.\n",
    "Use Case: The sorted() function uses this lambda function as the key argument to determine the order of the tuples based on their second element (the fruit name).\n",
    "Result: The list is sorted alphabetically by the fruit name."
   ],
   "id": "332f973320ef8995"
  },
  {
   "metadata": {},
   "cell_type": "code",
   "outputs": [],
   "execution_count": null,
   "source": "The same operation could be achieved using a regular function, but it would be more verbose:",
   "id": "14949caca3690900"
  },
  {
   "metadata": {
    "ExecuteTime": {
     "end_time": "2024-08-12T03:06:34.733854Z",
     "start_time": "2024-08-12T03:06:34.719900Z"
    }
   },
   "cell_type": "code",
   "source": [
    "def get_second_element(x):\n",
    "    return x[1]\n",
    "\n",
    "sorted_data = sorted(data, key=get_second_element)\n",
    "\n",
    "print(sorted_data)\n"
   ],
   "id": "c263be24affb7d5d",
   "outputs": [
    {
     "name": "stdout",
     "output_type": "stream",
     "text": [
      "[(3, 'apple'), (1, 'banana'), (2, 'cherry')]\n"
     ]
    }
   ],
   "execution_count": 8
  },
  {
   "metadata": {},
   "cell_type": "code",
   "outputs": [],
   "execution_count": null,
   "source": [
    "5. . How does the concept of \"scope\" apply to functions in Python? Explain the difference between local\n",
    "scope and global scope.\n"
   ],
   "id": "73c659138630bb47"
  },
  {
   "metadata": {},
   "cell_type": "code",
   "outputs": [],
   "execution_count": null,
   "source": [
    "The concept of \"scope\" refers to the region of a program where a particular variable or name is accessible. Understanding scope is crucial for managing the visibility and lifespan of variables within different parts of a program. There are two primary types of scope: local scope and global scope.\n",
    "\n",
    "1. Global Scope:\n",
    "Definition: Variables defined at the top level of a script or module, outside of any function or class, are said to have global scope. These variables are accessible from anywhere in the code, including inside functions.\n",
    "Lifespan: A global variable exists as long as the program is running."
   ],
   "id": "8f40d881a644f54b"
  },
  {
   "metadata": {
    "ExecuteTime": {
     "end_time": "2024-08-12T03:08:56.748158Z",
     "start_time": "2024-08-12T03:08:56.731653Z"
    }
   },
   "cell_type": "code",
   "source": [
    "# Global variable\n",
    "x = 10\n",
    "\n",
    "def display_global():\n",
    "    print(f\"Global x: {x}\")\n",
    "\n",
    "display_global()  # Output: Global x: 10\n"
   ],
   "id": "2aff488789cc84fd",
   "outputs": [
    {
     "name": "stdout",
     "output_type": "stream",
     "text": [
      "Global x: 10\n"
     ]
    }
   ],
   "execution_count": 9
  },
  {
   "metadata": {},
   "cell_type": "code",
   "outputs": [],
   "execution_count": null,
   "source": [
    "Explanation:\n",
    "\n",
    "The variable x is defined outside the display_global function, so it has a global scope. It can be accessed and printed inside the function.\n"
   ],
   "id": "592cf59701d45cc6"
  },
  {
   "metadata": {},
   "cell_type": "code",
   "outputs": [],
   "execution_count": null,
   "source": [
    "2. Local Scope:\n",
    "Definition: Variables defined inside a function are said to have local scope. These variables are only accessible within the function where they are defined and cannot be accessed outside of that function.\n",
    "Lifespan: A local variable exists only during the execution of the function and is destroyed when the function exits."
   ],
   "id": "7922a5bfcef2a292"
  },
  {
   "metadata": {
    "ExecuteTime": {
     "end_time": "2024-08-12T03:09:25.829138Z",
     "start_time": "2024-08-12T03:09:25.818048Z"
    }
   },
   "cell_type": "code",
   "source": [
    "def display_local():\n",
    "    y = 5  # Local variable\n",
    "    print(f\"Local y: {y}\")\n",
    "\n",
    "display_local()  # Output: Local y: 5\n",
    "\n",
    "# print(y)  # This would raise an error because y is not accessible outside the function\n"
   ],
   "id": "d9c6f7ba7d3d7716",
   "outputs": [
    {
     "name": "stdout",
     "output_type": "stream",
     "text": [
      "Local y: 5\n"
     ]
    }
   ],
   "execution_count": 10
  },
  {
   "metadata": {},
   "cell_type": "code",
   "outputs": [],
   "execution_count": null,
   "source": [
    "Explanation:\n",
    "\n",
    "The variable y is defined inside the display_local function, so it has a local scope. It is only accessible within the function and not outside of it. Attempting to access y outside the function would result in an error."
   ],
   "id": "ae711dd1fdce2a8c"
  },
  {
   "metadata": {},
   "cell_type": "code",
   "outputs": [],
   "execution_count": null,
   "source": [
    "Key Differences Between Local and Global Scope:\n",
    "Accessibility:\n",
    "\n",
    "Global Variables: Accessible throughout the entire program, including inside functions.\n",
    "Local Variables: Accessible only within the function where they are defined.\n",
    "Lifespan:\n",
    "\n",
    "Global Variables: Exist for the duration of the program's execution.\n",
    "Local Variables: Exist only during the function's execution and are destroyed afterward.\n",
    "Modification:\n",
    "\n",
    "Global Variables: Can be modified inside functions using the global keyword, but this is generally discouraged as it can lead to unexpected behavior.\n",
    "Local Variables: Can be freely modified within their function without affecting the global scope."
   ],
   "id": "8ee21e982f367026"
  },
  {
   "metadata": {},
   "cell_type": "code",
   "outputs": [],
   "execution_count": null,
   "source": "Example Demonstrating Both Scopes:",
   "id": "6d9bae72d36f47ff"
  },
  {
   "metadata": {
    "ExecuteTime": {
     "end_time": "2024-08-12T03:10:14.152647Z",
     "start_time": "2024-08-12T03:10:14.131641Z"
    }
   },
   "cell_type": "code",
   "source": [
    "x = 10  # Global variable\n",
    "\n",
    "def modify_x():\n",
    "    global x\n",
    "    x = 20  # Modify the global variable\n",
    "    print(f\"Inside function, x: {x}\")\n",
    "\n",
    "def use_local_y():\n",
    "    y = 30  # Local variable\n",
    "    print(f\"Inside function, y: {y}\")\n",
    "\n",
    "modify_x()  # Output: Inside function, x: 20\n",
    "print(f\"Outside function, x: {x}\")  # Output: Outside function, x: 20\n",
    "\n",
    "use_local_y()  # Output: Inside function, y: 30\n",
    "# print(y)  # This would raise an error because y is not accessible outside the function\n"
   ],
   "id": "b261bbb716fd82ae",
   "outputs": [
    {
     "name": "stdout",
     "output_type": "stream",
     "text": [
      "Inside function, x: 20\n",
      "Outside function, x: 20\n",
      "Inside function, y: 30\n"
     ]
    }
   ],
   "execution_count": 11
  },
  {
   "metadata": {},
   "cell_type": "code",
   "outputs": [],
   "execution_count": null,
   "source": "",
   "id": "ee5a0b2769a05c5b"
  },
  {
   "metadata": {},
   "cell_type": "code",
   "outputs": [],
   "execution_count": null,
   "source": [
    "Explanation:\n",
    "Global Variable Modification: In the modify_x function, the global x statement is used to modify the global variable x. After calling modify_x, the value of x outside the function is changed.\n",
    "Local Variable: The variable y in the use_local_y function is local and cannot be accessed outside the function. Trying to print y outside the function would result in an error."
   ],
   "id": "e779e2d44ad52750"
  },
  {
   "metadata": {},
   "cell_type": "code",
   "outputs": [],
   "execution_count": null,
   "source": "6. How can you use the \"return\" statement in a Python function to return multiple values?",
   "id": "e224d25d6a034115"
  },
  {
   "metadata": {},
   "cell_type": "code",
   "outputs": [],
   "execution_count": null,
   "source": " The return statement can be used to return multiple values from a function. This is achieved by separating the values with commas. When you do this, Python implicitly packs these values into a tuple, which is then returned to the caller. The caller can then unpack the tuple into individual variables if needed.",
   "id": "a50a1c4d9153391c"
  },
  {
   "metadata": {},
   "cell_type": "code",
   "outputs": [],
   "execution_count": null,
   "source": [
    "Returning Multiple Values\n",
    "Here's an example that demonstrates how to return multiple values from a function:"
   ],
   "id": "d24cbeafd9b7a370"
  },
  {
   "metadata": {
    "ExecuteTime": {
     "end_time": "2024-08-12T03:24:56.314546Z",
     "start_time": "2024-08-12T03:24:56.247296Z"
    }
   },
   "cell_type": "code",
   "source": [
    "def get_user_info():\n",
    "    name = \"Farid\"\n",
    "    age = 30\n",
    "    country = \"India\"\n",
    "    return name, age, country\n",
    "\n",
    "# Calling the function and unpacking the returned values\n",
    "user_name, user_age, user_country = get_user_info()"
   ],
   "id": "57dbcb228986049",
   "outputs": [
    {
     "name": "stdout",
     "output_type": "stream",
     "text": [
      "Name: Farid\n",
      "Age: 30\n",
      "Country: India\n"
     ]
    }
   ],
   "execution_count": 12
  },
  {
   "metadata": {
    "ExecuteTime": {
     "end_time": "2024-08-12T03:28:48.465614Z",
     "start_time": "2024-08-12T03:28:48.455997Z"
    }
   },
   "cell_type": "code",
   "source": [
    "print(f\"Name: {user_name}\")     \n",
    "print(f\"Age: {user_age}\")\n",
    "print(f\"Country: {user_country}\")"
   ],
   "id": "bbc5e9c381096bb8",
   "outputs": [
    {
     "name": "stdout",
     "output_type": "stream",
     "text": [
      "Name: Farid\n",
      "Age: 30\n",
      "Country: India\n"
     ]
    }
   ],
   "execution_count": 15
  },
  {
   "metadata": {},
   "cell_type": "code",
   "outputs": [],
   "execution_count": null,
   "source": "",
   "id": "57dd3f260196230a"
  },
  {
   "metadata": {},
   "cell_type": "code",
   "outputs": [],
   "execution_count": null,
   "source": [
    "Unpacking Returned Values\n",
    "You can also unpack the returned tuple directly into separate variables:"
   ],
   "id": "cd7dde305cfc584a"
  },
  {
   "metadata": {
    "ExecuteTime": {
     "end_time": "2024-08-12T03:27:47.561294Z",
     "start_time": "2024-08-12T03:27:47.549327Z"
    }
   },
   "cell_type": "code",
   "source": [
    "def get_coordinates():\n",
    "    x = 10\n",
    "    y = 20\n",
    "    return x, y\n",
    "\n",
    "x_coord, y_coord = get_coordinates()"
   ],
   "id": "8c6aa65a045621fa",
   "outputs": [],
   "execution_count": 13
  },
  {
   "metadata": {
    "ExecuteTime": {
     "end_time": "2024-08-12T03:28:00.171654Z",
     "start_time": "2024-08-12T03:28:00.158946Z"
    }
   },
   "cell_type": "code",
   "source": [
    "print(x_coord)\n",
    "print(y_coord)"
   ],
   "id": "49d0636e060b877d",
   "outputs": [
    {
     "name": "stdout",
     "output_type": "stream",
     "text": [
      "10\n",
      "20\n"
     ]
    }
   ],
   "execution_count": 14
  },
  {
   "metadata": {},
   "cell_type": "code",
   "outputs": [],
   "execution_count": null,
   "source": [
    "Returning Multiple Values as a List or Dictionary\n",
    "While tuples are commonly used, you can also return multiple values using other data structures like lists or dictionaries:\n",
    "\n",
    "Returning a List"
   ],
   "id": "4a64f65850d00081"
  },
  {
   "metadata": {
    "ExecuteTime": {
     "end_time": "2024-08-12T03:29:17.125461Z",
     "start_time": "2024-08-12T03:29:17.105334Z"
    }
   },
   "cell_type": "code",
   "source": [
    "def get_coordinates():\n",
    "    x = 10\n",
    "    y = 20\n",
    "    return [x, y]\n",
    "\n",
    "coordinates = get_coordinates()"
   ],
   "id": "f712f6cc6eea09fa",
   "outputs": [],
   "execution_count": 16
  },
  {
   "metadata": {
    "ExecuteTime": {
     "end_time": "2024-08-12T03:29:19.152260Z",
     "start_time": "2024-08-12T03:29:19.123666Z"
    }
   },
   "cell_type": "code",
   "source": "print(coordinates) ",
   "id": "ff3c6abd2cc83272",
   "outputs": [
    {
     "name": "stdout",
     "output_type": "stream",
     "text": [
      "[10, 20]\n"
     ]
    }
   ],
   "execution_count": 17
  },
  {
   "metadata": {},
   "cell_type": "code",
   "outputs": [],
   "execution_count": null,
   "source": "Returning a Dictionary",
   "id": "45a6b187dec65064"
  },
  {
   "metadata": {
    "ExecuteTime": {
     "end_time": "2024-08-12T03:29:59.630986Z",
     "start_time": "2024-08-12T03:29:59.621760Z"
    }
   },
   "cell_type": "code",
   "source": [
    "def get_coordinates():\n",
    "    return {'x': 10, 'y': 20}\n",
    "\n",
    "coordinates = get_coordinates()"
   ],
   "id": "18601c35f391afa2",
   "outputs": [],
   "execution_count": 19
  },
  {
   "metadata": {
    "ExecuteTime": {
     "end_time": "2024-08-12T03:30:08.370442Z",
     "start_time": "2024-08-12T03:30:08.359815Z"
    }
   },
   "cell_type": "code",
   "source": [
    "print(coordinates)       \n",
    "print(coordinates['x'])  \n",
    "print(coordinates['y'])"
   ],
   "id": "36cb7c505b2641b0",
   "outputs": [
    {
     "name": "stdout",
     "output_type": "stream",
     "text": [
      "{'x': 10, 'y': 20}\n",
      "10\n",
      "20\n"
     ]
    }
   ],
   "execution_count": 20
  },
  {
   "metadata": {},
   "cell_type": "code",
   "outputs": [],
   "execution_count": null,
   "source": " the concepts of \"pass by value\" and \"pass by reference\" describe how arguments are passed to functions. Understanding these concepts in Python requires knowing how Python handles objects and their references.",
   "id": "446cba68c984751"
  },
  {
   "metadata": {},
   "cell_type": "code",
   "outputs": [],
   "execution_count": null,
   "source": [
    "Pass by Value\n",
    "In \"pass by value,\" a copy of the argument's value is passed to the function. Changes made to the parameter within the function do not affect the original argument outside the function because only a copy of the value is modified.\n"
   ],
   "id": "fc91cc8b5265e3bc"
  },
  {
   "metadata": {},
   "cell_type": "code",
   "outputs": [],
   "execution_count": null,
   "source": [
    "Pass by Reference\n",
    "In \"pass by reference,\" a reference (or pointer) to the actual memory address of the argument is passed to the function. Any changes made to the parameter within the function will affect the original argument outside the function since both the parameter and the argument refer to the same memory location."
   ],
   "id": "9f26babcc029393f"
  },
  {
   "metadata": {},
   "cell_type": "code",
   "outputs": [],
   "execution_count": null,
   "source": [
    "Python's Approach: Pass by Object Reference\n",
    "Python uses a model often referred to as \"pass by object reference\" or \"pass by assignment.\" This means that when a function is called, the references to the objects are passed to the function. How this behaves depends on the mutability of the object being referenced:"
   ],
   "id": "4196e1f8f52bc271"
  },
  {
   "metadata": {},
   "cell_type": "code",
   "outputs": [],
   "execution_count": null,
   "source": "Immutable Objects: For immutable objects (like integers, floats, strings, and tuples), the behavior mimics \"pass by value\" because you cannot modify the object itself; you can only rebind the reference to a new object.",
   "id": "3d706b467e9c503f"
  },
  {
   "metadata": {
    "ExecuteTime": {
     "end_time": "2024-08-12T03:31:39.737447Z",
     "start_time": "2024-08-12T03:31:39.726079Z"
    }
   },
   "cell_type": "code",
   "source": [
    "def modify_immutable(x):\n",
    "    x = x + 1  # This rebinding does not affect the original argument\n",
    "\n",
    "a = 10\n",
    "modify_immutable(a)"
   ],
   "id": "c2957f002da5bda7",
   "outputs": [],
   "execution_count": 21
  },
  {
   "metadata": {
    "ExecuteTime": {
     "end_time": "2024-08-12T03:31:48.094320Z",
     "start_time": "2024-08-12T03:31:48.084112Z"
    }
   },
   "cell_type": "code",
   "source": "print(a)",
   "id": "4e958456f4942a51",
   "outputs": [
    {
     "name": "stdout",
     "output_type": "stream",
     "text": [
      "10\n"
     ]
    }
   ],
   "execution_count": 22
  },
  {
   "metadata": {},
   "cell_type": "code",
   "outputs": [],
   "execution_count": null,
   "source": "Mutable Objects: For mutable objects (like lists, dictionaries, and sets), the behavior resembles \"pass by reference\" because you can modify the object through the reference.",
   "id": "59cee200c766d64b"
  },
  {
   "metadata": {
    "ExecuteTime": {
     "end_time": "2024-08-12T03:32:17.225729Z",
     "start_time": "2024-08-12T03:32:17.214073Z"
    }
   },
   "cell_type": "code",
   "source": [
    "def modify_mutable(lst):\n",
    "    lst.append(4)  # This modifies the original object\n",
    "\n",
    "my_list = [1, 2, 3]\n",
    "modify_mutable(my_list)"
   ],
   "id": "1e6edcd7b8a4525c",
   "outputs": [],
   "execution_count": 23
  },
  {
   "metadata": {
    "ExecuteTime": {
     "end_time": "2024-08-12T03:32:19.826795Z",
     "start_time": "2024-08-12T03:32:19.821285Z"
    }
   },
   "cell_type": "code",
   "source": "print(my_list) ",
   "id": "90ff3ae46721dd9a",
   "outputs": [
    {
     "name": "stdout",
     "output_type": "stream",
     "text": [
      "[1, 2, 3, 4]\n"
     ]
    }
   ],
   "execution_count": 24
  },
  {
   "metadata": {},
   "cell_type": "code",
   "outputs": [],
   "execution_count": null,
   "source": "",
   "id": "74732d00694b2f1b"
  },
  {
   "metadata": {},
   "cell_type": "code",
   "outputs": [],
   "execution_count": null,
   "source": [
    "Key Takeaways\n",
    "Immutable Objects: If you pass an immutable object to a function and try to modify it, you end up with a new object, and the original object remains unchanged.\n",
    "Mutable Objects: If you pass a mutable object to a function, you can modify the original object directly via the reference."
   ],
   "id": "5804e693c865dea6"
  },
  {
   "metadata": {},
   "cell_type": "code",
   "outputs": [],
   "execution_count": null,
   "source": [
    "8. . Create a function that can intake integer or decimal value and do following operations:\n",
    "a. Logarithmic function (log x)\n",
    "b. Exponential function (exp(x))\n",
    "c. Power function with base 2 (2\n",
    "x\n",
    ")\n",
    "d. Square root"
   ],
   "id": "41e41b26dd10ff1f"
  },
  {
   "metadata": {},
   "cell_type": "code",
   "outputs": [],
   "execution_count": null,
   "source": "To create a function in Python that can perform the specified mathematical operations on an input value, we can use the math module. This module provides functions for logarithmic calculations, exponential calculations, power calculations, and square roots. Below is a Python function that implements these operations:",
   "id": "8d99d65225227c3f"
  },
  {
   "metadata": {
    "ExecuteTime": {
     "end_time": "2024-08-12T03:34:37.415902Z",
     "start_time": "2024-08-12T03:34:37.405151Z"
    }
   },
   "cell_type": "code",
   "source": [
    "import math\n",
    "\n",
    "def perform_operations(x):\n",
    "    # Check if the input is a valid number (integer or float)\n",
    "    if not isinstance(x, (int, float)):\n",
    "        raise ValueError(\"Input must be an integer or a float.\")\n",
    "\n",
    "    # Logarithmic function (log x), log base 10 is used here for demonstration\n",
    "    log_x = math.log10(x) if x > 0 else None  # Log is undefined for non-positive numbers\n",
    "\n",
    "    # Exponential function (exp(x))\n",
    "    exp_x = math.exp(x)\n",
    "\n",
    "    # Power function with base 2 (2^x)\n",
    "    power_2_x = 2 ** x\n",
    "\n",
    "    # Square root\n",
    "    sqrt_x = math.sqrt(x) if x >= 0 else None  # Square root is undefined for negative numbers\n",
    "\n",
    "    return {\n",
    "        \"log(x)\": log_x,\n",
    "        \"exp(x)\": exp_x,\n",
    "        \"2^x\": power_2_x,\n",
    "        \"sqrt(x)\": sqrt_x\n",
    "    }\n",
    "\n",
    "result = perform_operations(4)"
   ],
   "id": "bb16f31c607b8dfb",
   "outputs": [],
   "execution_count": 26
  },
  {
   "metadata": {
    "ExecuteTime": {
     "end_time": "2024-08-12T03:34:40.213268Z",
     "start_time": "2024-08-12T03:34:40.198308Z"
    }
   },
   "cell_type": "code",
   "source": "print(result)",
   "id": "f58b065d11f7270a",
   "outputs": [
    {
     "name": "stdout",
     "output_type": "stream",
     "text": [
      "{'log(x)': 0.6020599913279624, 'exp(x)': 54.598150033144236, '2^x': 16, 'sqrt(x)': 2.0}\n"
     ]
    }
   ],
   "execution_count": 27
  },
  {
   "metadata": {},
   "cell_type": "code",
   "outputs": [],
   "execution_count": null,
   "source": [
    "Explanation\n",
    "Input Validation: The function first checks if the input x is either an integer or a float. If not, it raises a ValueError.\n",
    "\n",
    "Logarithmic Function (log(x)): The function uses math.log10(x) to compute the logarithm to the base 10. If x is not positive, it sets the log value to None because the logarithm of non-positive numbers is undefined.\n",
    "\n",
    "Exponential Function (exp(x)): The function uses math.exp(x) to compute the exponential of x.\n",
    "\n",
    "Power Function (2^x): The function computes 2 raised to the power of x using the ** operator.\n",
    "\n",
    "Square Root (sqrt(x)): The function uses math.sqrt(x) to compute the square root of x. If x is negative, it sets the square root value to None because the square root of a negative number is undefined in the real number domain."
   ],
   "id": "42c8d3b292280ce5"
  },
  {
   "metadata": {},
   "cell_type": "code",
   "outputs": [],
   "execution_count": null,
   "source": [
    "Usage\n",
    "You can call the function with an integer or a decimal value to get the results of these mathematical operations. The function returns a dictionary containing the results of each operation."
   ],
   "id": "b03e867a9f5f9e63"
  },
  {
   "metadata": {},
   "cell_type": "code",
   "outputs": [],
   "execution_count": null,
   "source": "9. Create a function that takes a full name as an argument and returns first name and last name.",
   "id": "acd71c1bf78c84f3"
  },
  {
   "metadata": {
    "ExecuteTime": {
     "end_time": "2024-08-12T03:37:06.778350Z",
     "start_time": "2024-08-12T03:37:06.770454Z"
    }
   },
   "cell_type": "code",
   "source": [
    "def split_name(full_name):\n",
    "    # Split the full name by spaces\n",
    "    name_parts = full_name.strip().split()\n",
    "\n",
    "    # Extract the first and last name\n",
    "    first_name = name_parts[0]\n",
    "    last_name = name_parts[-1] if len(name_parts) > 1 else ''\n",
    "\n",
    "    return first_name, last_name\n",
    "\n",
    "# Example usage\n",
    "first, last = split_name(\"Mohammad Farid\")\n",
    "print(f\"First Name: {first}\")\n",
    "print(f\"Last Name: {last}\")"
   ],
   "id": "e576c5b12fcc26d1",
   "outputs": [
    {
     "name": "stdout",
     "output_type": "stream",
     "text": [
      "First Name: Mohammad\n",
      "Last Name: Farid\n"
     ]
    }
   ],
   "execution_count": 29
  },
  {
   "metadata": {},
   "cell_type": "code",
   "outputs": [],
   "execution_count": null,
   "source": "",
   "id": "18896326eac951d9"
  }
 ],
 "metadata": {
  "kernelspec": {
   "display_name": "Python 3",
   "language": "python",
   "name": "python3"
  },
  "language_info": {
   "codemirror_mode": {
    "name": "ipython",
    "version": 2
   },
   "file_extension": ".py",
   "mimetype": "text/x-python",
   "name": "python",
   "nbconvert_exporter": "python",
   "pygments_lexer": "ipython2",
   "version": "2.7.6"
  }
 },
 "nbformat": 4,
 "nbformat_minor": 5
}
