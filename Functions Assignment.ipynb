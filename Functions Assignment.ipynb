{
 "cells": [
  {
   "metadata": {},
   "cell_type": "code",
   "outputs": [],
   "execution_count": null,
   "source": [
    "In Python, what is the difference between a built-in function and user-defined function? Provide an\n",
    "example of each."
   ],
   "id": "6fce879293d4374c"
  },
  {
   "metadata": {},
   "cell_type": "code",
   "outputs": [],
   "execution_count": null,
   "source": [
    "The difference between a built-in function and a user-defined function lies in their origin and how they are used:\n",
    "\n",
    "1. Built-in Function:\n",
    "Definition: A built-in function is a function that is pre-defined in Python. These functions are available for use as soon as you start the Python interpreter, without the need to define them yourself.\n",
    "Examples: print(), len(), sum(), max(), etc"
   ],
   "id": "e42c27239a6bce85"
  },
  {
   "metadata": {
    "ExecuteTime": {
     "end_time": "2024-08-12T02:51:35.221175Z",
     "start_time": "2024-08-12T02:51:35.202133Z"
    }
   },
   "cell_type": "code",
   "source": [
    "# Using a built-in function: len()\n",
    "my_list = [1, 2, 3, 4, 5]\n",
    "length = len(my_list)\n",
    "print(f\"The length of the list is: {length}\")"
   ],
   "id": "9be0f653f5089480",
   "outputs": [
    {
     "name": "stdout",
     "output_type": "stream",
     "text": [
      "The length of the list is: 5\n"
     ]
    }
   ],
   "execution_count": 1
  },
  {
   "metadata": {},
   "cell_type": "code",
   "outputs": [],
   "execution_count": null,
   "source": "",
   "id": "d18e830a049e3bc9"
  }
 ],
 "metadata": {
  "kernelspec": {
   "display_name": "Python 3",
   "language": "python",
   "name": "python3"
  },
  "language_info": {
   "codemirror_mode": {
    "name": "ipython",
    "version": 2
   },
   "file_extension": ".py",
   "mimetype": "text/x-python",
   "name": "python",
   "nbconvert_exporter": "python",
   "pygments_lexer": "ipython2",
   "version": "2.7.6"
  }
 },
 "nbformat": 4,
 "nbformat_minor": 5
}
