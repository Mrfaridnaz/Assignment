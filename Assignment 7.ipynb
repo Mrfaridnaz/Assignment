{
 "cells": [
  {
   "cell_type": "markdown",
   "id": "1b5b0556",
   "metadata": {},
   "source": [
    "# Python Basic - 2"
   ]
  },
  {
   "cell_type": "markdown",
   "id": "3ecbb9cf",
   "metadata": {},
   "source": [
    "\"\"\"# Q.1. Create two int type variables, apply addition, subtraction, division and multiplications\n",
    "and store the results in variables. Then print the data in the following format by calling the\n",
    "variables:\"\"\"\n"
   ]
  },
  {
   "cell_type": "code",
   "execution_count": 2,
   "id": "7b007289",
   "metadata": {},
   "outputs": [
    {
     "data": {
      "text/plain": [
       "'First variable is __ & second variable is __.\\nAddition: __ + __ = __\\nSubtraction: __ - __ = __\\nMultiplication: __ * __ = __\\nDivision: __ / __ = __'"
      ]
     },
     "execution_count": 2,
     "metadata": {},
     "output_type": "execute_result"
    }
   ],
   "source": [
    "\"\"\"First variable is __ & second variable is __.\n",
    "Addition: __ + __ = __\n",
    "Subtraction: __ - __ = __\n",
    "Multiplication: __ * __ = __\n",
    "Division: __ / __ = __\"\"\""
   ]
  },
  {
   "cell_type": "code",
   "execution_count": 3,
   "id": "048c53fb",
   "metadata": {},
   "outputs": [],
   "source": [
    "a=5\n",
    "b=10"
   ]
  },
  {
   "cell_type": "code",
   "execution_count": 4,
   "id": "0dd5e375",
   "metadata": {},
   "outputs": [],
   "source": [
    "Addition=a+b\n",
    "Subtraction= a-b\n",
    "Multiplication= a*b\n",
    "Division = a/b\n"
   ]
  },
  {
   "cell_type": "code",
   "execution_count": 12,
   "id": "4df50340",
   "metadata": {},
   "outputs": [
    {
     "data": {
      "text/plain": [
       "15"
      ]
     },
     "execution_count": 12,
     "metadata": {},
     "output_type": "execute_result"
    }
   ],
   "source": [
    "Addition"
   ]
  },
  {
   "cell_type": "code",
   "execution_count": 7,
   "id": "53982577",
   "metadata": {},
   "outputs": [
    {
     "data": {
      "text/plain": [
       "-5"
      ]
     },
     "execution_count": 7,
     "metadata": {},
     "output_type": "execute_result"
    }
   ],
   "source": [
    "Subtraction"
   ]
  },
  {
   "cell_type": "code",
   "execution_count": 10,
   "id": "f8ccf985",
   "metadata": {},
   "outputs": [
    {
     "data": {
      "text/plain": [
       "50"
      ]
     },
     "execution_count": 10,
     "metadata": {},
     "output_type": "execute_result"
    }
   ],
   "source": [
    "Multiplication"
   ]
  },
  {
   "cell_type": "code",
   "execution_count": 11,
   "id": "c9d0402d",
   "metadata": {},
   "outputs": [
    {
     "data": {
      "text/plain": [
       "0.5"
      ]
     },
     "execution_count": 11,
     "metadata": {},
     "output_type": "execute_result"
    }
   ],
   "source": [
    "Division"
   ]
  },
  {
   "cell_type": "code",
   "execution_count": 1,
   "id": "930d6a02",
   "metadata": {},
   "outputs": [
    {
     "data": {
      "text/plain": [
       "'Q.2. What is the difference between the following operators:\\n(i) ‘/’ & ‘//’\\n(ii) ‘**’ & ‘^’'"
      ]
     },
     "execution_count": 1,
     "metadata": {},
     "output_type": "execute_result"
    }
   ],
   "source": [
    "\"\"\"Q.2. What is the difference between the following operators:\n",
    "(i) ‘/’ & ‘//’\n",
    "(ii) ‘**’ & ‘^’\"\"\""
   ]
  },
  {
   "cell_type": "markdown",
   "id": "d0d9faf7",
   "metadata": {},
   "source": [
    "# '//' performs floor division and returns an integer."
   ]
  },
  {
   "cell_type": "markdown",
   "id": "841e6d93",
   "metadata": {},
   "source": [
    "# '/' performs floating-point division and returns a float.\n"
   ]
  },
  {
   "cell_type": "code",
   "execution_count": 2,
   "id": "e5ce60b7",
   "metadata": {},
   "outputs": [],
   "source": [
    "#\"/\" is a division operator\n",
    "\"\"\"It is used between two numbers, it performs floating-point division and returns the quotient as a \n",
    "floating-point number. For example, 10 / 3 would result in 3.3333333333333335.\"\"\"\n",
    "a=10\n",
    "b=3\n",
    "c=a/b"
   ]
  },
  {
   "cell_type": "code",
   "execution_count": 13,
   "id": "2ff3bece",
   "metadata": {},
   "outputs": [
    {
     "data": {
      "text/plain": [
       "3.3333333333333335"
      ]
     },
     "execution_count": 13,
     "metadata": {},
     "output_type": "execute_result"
    }
   ],
   "source": [
    "c"
   ]
  },
  {
   "cell_type": "code",
   "execution_count": 18,
   "id": "70da21bc",
   "metadata": {},
   "outputs": [],
   "source": [
    "#\"//\" is a Floor division operator\n",
    "\"\"\"It performs integer division and returns the quotient as an integer, discarding any fractional part. \n",
    "For example, 10 // 3 would result in 3.\"\"\"\n",
    "a=10\n",
    "b=3\n",
    "c=a//b"
   ]
  },
  {
   "cell_type": "code",
   "execution_count": 19,
   "id": "4b4fb353",
   "metadata": {},
   "outputs": [
    {
     "data": {
      "text/plain": [
       "3"
      ]
     },
     "execution_count": 19,
     "metadata": {},
     "output_type": "execute_result"
    }
   ],
   "source": [
    "c"
   ]
  },
  {
   "cell_type": "markdown",
   "id": "72455c5b",
   "metadata": {},
   "source": [
    "# Q.2. What is the difference between the following operators:"
   ]
  },
  {
   "cell_type": "code",
   "execution_count": 21,
   "id": "ac5c18a2",
   "metadata": {},
   "outputs": [
    {
     "data": {
      "text/plain": [
       "\"The operators '**' and '^' are used for exponentiation, but they have different meanings\""
      ]
     },
     "execution_count": 21,
     "metadata": {},
     "output_type": "execute_result"
    }
   ],
   "source": [
    "\"\"\"The operators '**' and '^' are used for exponentiation, but they have different meanings\"\"\""
   ]
  },
  {
   "cell_type": "code",
   "execution_count": 22,
   "id": "634773b7",
   "metadata": {},
   "outputs": [],
   "source": [
    "#The operators '**' and '^' are used for exponentiation"
   ]
  },
  {
   "cell_type": "code",
   "execution_count": 23,
   "id": "4bc06b4e",
   "metadata": {},
   "outputs": [
    {
     "data": {
      "text/plain": [
       "27"
      ]
     },
     "execution_count": 23,
     "metadata": {},
     "output_type": "execute_result"
    }
   ],
   "source": [
    "a=3\n",
    "b=2\n",
    "a**3"
   ]
  },
  {
   "cell_type": "code",
   "execution_count": 24,
   "id": "b1b6f78f",
   "metadata": {},
   "outputs": [],
   "source": [
    "#'^' (caret) is not a standard exponentiation operator in Python caled XOR"
   ]
  },
  {
   "cell_type": "code",
   "execution_count": 25,
   "id": "4bb8ee00",
   "metadata": {},
   "outputs": [],
   "source": [
    "#Sets each bit to 1 if only one of two bits is 1\n",
    "c=a^b"
   ]
  },
  {
   "cell_type": "code",
   "execution_count": 26,
   "id": "73c79ff7",
   "metadata": {},
   "outputs": [
    {
     "data": {
      "text/plain": [
       "1"
      ]
     },
     "execution_count": 26,
     "metadata": {},
     "output_type": "execute_result"
    }
   ],
   "source": [
    "c"
   ]
  },
  {
   "cell_type": "markdown",
   "id": "f011cd69",
   "metadata": {},
   "source": [
    "# Q.3. List the logical operators."
   ]
  },
  {
   "cell_type": "code",
   "execution_count": 27,
   "id": "01c56243",
   "metadata": {},
   "outputs": [],
   "source": [
    "# AND \"Returns True if both statements are true\"\n",
    "# OR \"Returns True if one of the statements is true\"\n",
    "# NOT \"zReverse the result, returns False if the result is true\""
   ]
  },
  {
   "cell_type": "markdown",
   "id": "c384e95f",
   "metadata": {},
   "source": [
    "# Q.4. Explain right shift operator and left shift operator with examples."
   ]
  },
  {
   "cell_type": "code",
   "execution_count": 28,
   "id": "3d02dca3",
   "metadata": {},
   "outputs": [],
   "source": [
    "#The right shift operator (>>) and the left shift operator (<<) are bitwise operators."
   ]
  },
  {
   "cell_type": "code",
   "execution_count": 29,
   "id": "8a686311",
   "metadata": {},
   "outputs": [
    {
     "data": {
      "text/plain": [
       "'Right Shift Operator (>>):\\nThe right shift operator (>>) shifts the bits of a number to the right by a specified number of positions. \\nIt is also known as the arithmetic right shift because it preserves the sign of the number.'"
      ]
     },
     "execution_count": 29,
     "metadata": {},
     "output_type": "execute_result"
    }
   ],
   "source": [
    "\"\"\"Right Shift Operator (>>):\n",
    "The right shift operator (>>) shifts the bits of a number to the right by a specified number of positions. \n",
    "It is also known as the arithmetic right shift because it preserves the sign of the number.\"\"\""
   ]
  },
  {
   "cell_type": "code",
   "execution_count": 32,
   "id": "75c5f747",
   "metadata": {},
   "outputs": [
    {
     "data": {
      "text/plain": [
       "2525275"
      ]
     },
     "execution_count": 32,
     "metadata": {},
     "output_type": "execute_result"
    }
   ],
   "source": [
    "10101100>>2"
   ]
  },
  {
   "cell_type": "code",
   "execution_count": 33,
   "id": "445f0b73",
   "metadata": {},
   "outputs": [
    {
     "data": {
      "text/plain": [
       "'Left Shift Operator (<<):\\nThe left shift operator (<<) shifts the bits of a number to the left by a specified number of positions. \\nIt is also known as the arithmetic left shift.'"
      ]
     },
     "execution_count": 33,
     "metadata": {},
     "output_type": "execute_result"
    }
   ],
   "source": [
    "\"\"\"Left Shift Operator (<<):\n",
    "The left shift operator (<<) shifts the bits of a number to the left by a specified number of positions. \n",
    "It is also known as the arithmetic left shift.\"\"\""
   ]
  },
  {
   "cell_type": "code",
   "execution_count": 34,
   "id": "8ca1b966",
   "metadata": {},
   "outputs": [
    {
     "data": {
      "text/plain": [
       "80808800"
      ]
     },
     "execution_count": 34,
     "metadata": {},
     "output_type": "execute_result"
    }
   ],
   "source": [
    "10101100 <<3"
   ]
  },
  {
   "cell_type": "markdown",
   "id": "5f17cfc7",
   "metadata": {},
   "source": [
    "# Q.5. Create a list containing int type data of length 15. Then write a code to check if 10 is present in the list or not."
   ]
  },
  {
   "cell_type": "code",
   "execution_count": 41,
   "id": "1b24bcec",
   "metadata": {},
   "outputs": [],
   "source": [
    "Li=[i for i in range(0,15)]"
   ]
  },
  {
   "cell_type": "code",
   "execution_count": 42,
   "id": "63563cf0",
   "metadata": {},
   "outputs": [
    {
     "data": {
      "text/plain": [
       "[0, 1, 2, 3, 4, 5, 6, 7, 8, 9, 10, 11, 12, 13, 14]"
      ]
     },
     "execution_count": 42,
     "metadata": {},
     "output_type": "execute_result"
    }
   ],
   "source": [
    "Li"
   ]
  },
  {
   "cell_type": "code",
   "execution_count": 48,
   "id": "47e128c1",
   "metadata": {},
   "outputs": [
    {
     "name": "stdout",
     "output_type": "stream",
     "text": [
      "10 is present in the list\n"
     ]
    }
   ],
   "source": [
    "for x in Li:\n",
    "    if x==10:\n",
    "        print(\"10 is present in the list\")"
   ]
  },
  {
   "cell_type": "code",
   "execution_count": null,
   "id": "2cbe9475",
   "metadata": {},
   "outputs": [],
   "source": []
  }
 ],
 "metadata": {
  "kernelspec": {
   "display_name": "Python 3 (ipykernel)",
   "language": "python",
   "name": "python3"
  },
  "language_info": {
   "codemirror_mode": {
    "name": "ipython",
    "version": 3
   },
   "file_extension": ".py",
   "mimetype": "text/x-python",
   "name": "python",
   "nbconvert_exporter": "python",
   "pygments_lexer": "ipython3",
   "version": "3.10.9"
  }
 },
 "nbformat": 4,
 "nbformat_minor": 5
}
