{
 "cells": [
  {
   "cell_type": "markdown",
   "id": "3595fd4a",
   "metadata": {},
   "source": [
    "# Q.1. What are keywords in python? Using the keyword library, print all the python keywords"
   ]
  },
  {
   "cell_type": "code",
   "execution_count": 7,
   "id": "d02cdd74",
   "metadata": {},
   "outputs": [
    {
     "data": {
      "text/plain": [
       "'\\nKeywords in Python are reserved words that have specific meanings and purposes within the language. These keywords cannot be used as identifiers (variable names, function names, class names,etc.)because they are already predefined and used for specific functionalities in Python.'"
      ]
     },
     "execution_count": 7,
     "metadata": {},
     "output_type": "execute_result"
    }
   ],
   "source": [
    "\"\"\"\n",
    "Keywords in Python are reserved words that have specific meanings and purposes within the language. These keywords cannot be used as identifiers (variable names, function names, class names,etc.)because they are already predefined and used for specific functionalities in Python.\"\"\""
   ]
  },
  {
   "cell_type": "code",
   "execution_count": 8,
   "id": "1e0447c9",
   "metadata": {},
   "outputs": [
    {
     "name": "stdout",
     "output_type": "stream",
     "text": [
      "['False', 'None', 'True', 'and', 'as', 'assert', 'async', 'await', 'break', 'class', 'continue', 'def', 'del', 'elif', 'else', 'except', 'finally', 'for', 'from', 'global', 'if', 'import', 'in', 'is', 'lambda', 'nonlocal', 'not', 'or', 'pass', 'raise', 'return', 'try', 'while', 'with', 'yield']\n"
     ]
    }
   ],
   "source": [
    "import keyword\n",
    "\n",
    "all_keywords = keyword.kwlist\n",
    "print(all_keywords)\n"
   ]
  },
  {
   "cell_type": "markdown",
   "id": "70175747",
   "metadata": {},
   "source": [
    "# Q.2 What are the rules to create variables in python?"
   ]
  },
  {
   "cell_type": "code",
   "execution_count": 10,
   "id": "75bd9e31",
   "metadata": {},
   "outputs": [],
   "source": [
    "#Variables are used to store data values. To create variables, \n",
    "#Here are the rules for creating variables in Python:\n",
    "\n",
    "#Variable Names:\n",
    "\n",
    "#Variable names must start with a letter (a-z, A-Z) or an underscore (_).\n",
    "#The first character cannot be a number (0-9).\n",
    "#Variable names can contain letters, numbers, and underscores.\n",
    "#Variable names are case-sensitive, which means \"myVar\" and \"myvar\" are considered different variables.\n",
    "#Reserved Keywords:\n",
    "\n",
    "#You cannot use Python reserved keywords (e.g., if, else, while, for, etc.) as variable names since \n",
    "#they have predefined meanings in the language."
   ]
  },
  {
   "cell_type": "markdown",
   "id": "439b51d5",
   "metadata": {},
   "source": [
    "# Q.3. What are the standards and conventions followed for the nomenclature of variables in python to improve code readability and maintainability?"
   ]
  },
  {
   "cell_type": "markdown",
   "id": "d7081761",
   "metadata": {},
   "source": [
    "# Q.4. What will happen if a keyword is used as a variable name?"
   ]
  },
  {
   "cell_type": "code",
   "execution_count": 13,
   "id": "e089610b",
   "metadata": {},
   "outputs": [],
   "source": [
    " #it will likely lead to a syntax error or unexpected behavior"
   ]
  },
  {
   "cell_type": "markdown",
   "id": "7d8d35a9",
   "metadata": {},
   "source": [
    "# Q.5. For what purpose def keyword is used?"
   ]
  },
  {
   "cell_type": "code",
   "execution_count": 15,
   "id": "f328d891",
   "metadata": {},
   "outputs": [
    {
     "data": {
      "text/plain": [
       "'The def keyword is used in Python to define a function. \\nFunctions in Python are blocks of reusable code that perform a specific task or a set of tasks. \\nThey help in organizing code into manageable and logical pieces, making it easier to read, understand, and maintain.'"
      ]
     },
     "execution_count": 15,
     "metadata": {},
     "output_type": "execute_result"
    }
   ],
   "source": [
    "\"\"\"The def keyword is used in Python to define a function. \n",
    "Functions in Python are blocks of reusable code that perform a specific task or a set of tasks. \n",
    "They help in organizing code into manageable and logical pieces, making it easier to read, understand, and maintain.\"\"\""
   ]
  },
  {
   "cell_type": "markdown",
   "id": "7a643869",
   "metadata": {},
   "source": [
    "# Q.6. What is the operation of this special character ‘\\’?"
   ]
  },
  {
   "cell_type": "code",
   "execution_count": 19,
   "id": "8a76c199",
   "metadata": {},
   "outputs": [
    {
     "data": {
      "text/plain": [
       "'\"The special character is known as the backslash.It is used as an escape character, which means it allows you to include special characters in strings that would otherwise have a different interpretation'"
      ]
     },
     "execution_count": 19,
     "metadata": {},
     "output_type": "execute_result"
    }
   ],
   "source": [
    " \"\"\"\"The special character is known as the backslash.It is used as an escape character, which means it allows you to include special characters in strings that would otherwise have a different interpretation\"\"\""
   ]
  },
  {
   "cell_type": "code",
   "execution_count": 20,
   "id": "16d240ed",
   "metadata": {},
   "outputs": [],
   "source": [
    "#\\n: Newline - Inserts a newline in the string.\n",
    "#\\t: Tab - Inserts a horizontal tab in the string.\n",
    "#\\r: Carriage return - Moves the cursor to the beginning of the line without advancing to the next line."
   ]
  },
  {
   "cell_type": "code",
   "execution_count": 31,
   "id": "e00e712b",
   "metadata": {},
   "outputs": [
    {
     "name": "stdout",
     "output_type": "stream",
     "text": [
      "Moha\tnmmad Farid\n"
     ]
    }
   ],
   "source": [
    "print(\"Moha\\tnmmad Farid\")"
   ]
  },
  {
   "cell_type": "code",
   "execution_count": 36,
   "id": "bacf46e1",
   "metadata": {},
   "outputs": [
    {
     "name": "stdout",
     "output_type": "stream",
     "text": [
      "nmmad Farid\n"
     ]
    }
   ],
   "source": [
    "print(\"Moha\\rnmmad Farid\")"
   ]
  },
  {
   "cell_type": "code",
   "execution_count": 27,
   "id": "89c31d45",
   "metadata": {},
   "outputs": [
    {
     "name": "stdout",
     "output_type": "stream",
     "text": [
      "Moha\n",
      "mmad Farid\n"
     ]
    }
   ],
   "source": [
    "print(\"Moha\\nmmad Farid\")"
   ]
  },
  {
   "cell_type": "code",
   "execution_count": 32,
   "id": "d28e7820",
   "metadata": {},
   "outputs": [],
   "source": [
    "x=\"Mohammad Farid\""
   ]
  },
  {
   "cell_type": "code",
   "execution_count": 33,
   "id": "e2d3c73f",
   "metadata": {},
   "outputs": [
    {
     "data": {
      "text/plain": [
       "'Mohammad Farid'"
      ]
     },
     "execution_count": 33,
     "metadata": {},
     "output_type": "execute_result"
    }
   ],
   "source": [
    "x"
   ]
  },
  {
   "cell_type": "code",
   "execution_count": 34,
   "id": "a2d19d7a",
   "metadata": {},
   "outputs": [],
   "source": [
    "x=\"Moham\\nmad Farid\""
   ]
  },
  {
   "cell_type": "code",
   "execution_count": 35,
   "id": "25a21495",
   "metadata": {},
   "outputs": [
    {
     "data": {
      "text/plain": [
       "'Moham\\nmad Farid'"
      ]
     },
     "execution_count": 35,
     "metadata": {},
     "output_type": "execute_result"
    }
   ],
   "source": [
    "x"
   ]
  },
  {
   "cell_type": "markdown",
   "id": "d35c6d51",
   "metadata": {},
   "source": [
    "# Q.7. Give an example of the following conditions:"
   ]
  },
  {
   "cell_type": "code",
   "execution_count": null,
   "id": "2e2cc115",
   "metadata": {},
   "outputs": [],
   "source": [
    "#(i) Homogeneous list\n",
    "#(ii) Heterogeneous set\n",
    "#(iii) Homogeneous tuple"
   ]
  },
  {
   "cell_type": "code",
   "execution_count": 38,
   "id": "d4f3f9b8",
   "metadata": {},
   "outputs": [],
   "source": [
    "# Homogeneous list of integers\n",
    "homogeneous_list_int = [1, 2, 3, 4, 5]"
   ]
  },
  {
   "cell_type": "code",
   "execution_count": 39,
   "id": "58232249",
   "metadata": {},
   "outputs": [],
   "source": [
    "# Heterogeneous set\n",
    "heterogeneous_set = {1, \"hello\", True, 3.14}"
   ]
  },
  {
   "cell_type": "code",
   "execution_count": 41,
   "id": "a4ac5f4e",
   "metadata": {},
   "outputs": [],
   "source": [
    "# Homogeneous tuple of strings\n",
    "homogeneous_tuple_str = (\"apple\", \"banana\", \"orange\")"
   ]
  },
  {
   "cell_type": "markdown",
   "id": "9ab87811",
   "metadata": {},
   "source": [
    "# Q.8. Explain the mutable and immutable data types with proper explanation & examples."
   ]
  },
  {
   "cell_type": "code",
   "execution_count": 46,
   "id": "f9bfddd6",
   "metadata": {},
   "outputs": [
    {
     "data": {
      "text/plain": [
       "\"data types can be categorized as either mutable or immutable based on whether their values can be changed after \\ncreation or not.\\nImmutable Data Types:\\nImmutable data types are those whose values cannot be modified after they are created. \\n\\nExamples of immutable data types in Python:\\n\\nint: Integer values are immutable.\\nfloat: Floating-point numbers are immutable.\\nbool: Boolean values True and False are immutable.\\nstr: Strings are immutable. If you change a string's value, a new string object is created.\""
      ]
     },
     "execution_count": 46,
     "metadata": {},
     "output_type": "execute_result"
    }
   ],
   "source": [
    "\"\"\"data types can be categorized as either mutable or immutable based on whether their values can be changed after \n",
    "creation or not.\n",
    "Immutable Data Types:\n",
    "Immutable data types are those whose values cannot be modified after they are created. \n",
    "\n",
    "Examples of immutable data types in Python:\n",
    "\n",
    "int: Integer values are immutable.\n",
    "float: Floating-point numbers are immutable.\n",
    "bool: Boolean values True and False are immutable.\n",
    "str: Strings are immutable. If you change a string's value, a new string object is created.\"\"\""
   ]
  },
  {
   "cell_type": "code",
   "execution_count": 47,
   "id": "e8254535",
   "metadata": {},
   "outputs": [
    {
     "name": "stdout",
     "output_type": "stream",
     "text": [
      "Before modification: x = 10\n",
      "After modification: x = 20\n"
     ]
    }
   ],
   "source": [
    "# Example of an immutable data type: int\n",
    "x = 10\n",
    "print(\"Before modification: x =\", x)\n",
    "\n",
    "# Attempting to modify the value of x\n",
    "x = 20\n",
    "\n",
    "print(\"After modification: x =\", x)  # The value of x has changed to 20, but the original object was not modified.\n"
   ]
  },
  {
   "cell_type": "code",
   "execution_count": 50,
   "id": "62df4172",
   "metadata": {},
   "outputs": [
    {
     "data": {
      "text/plain": [
       "'Mutable Data Types:\\nMutable data types, on the other hand, allow changes to their values after creation. \\nWhen you modify a mutable object, the changes are made in place, \\nmeaning the original object is modified rather than creating a new one. \\n\\nExamples of mutable data types in Python:\\n\\nlist: Lists are mutable. You can add, remove, or modify elements in a list.\\ndict: Dictionaries are mutable. You can add, remove, or modify key-value pairs.\\nset: Sets are mutable. You can add or remove elements from a set.\\nbytearray: A mutable version of bytes.'"
      ]
     },
     "execution_count": 50,
     "metadata": {},
     "output_type": "execute_result"
    }
   ],
   "source": [
    "\"\"\"Mutable Data Types:\n",
    "Mutable data types, on the other hand, allow changes to their values after creation. \n",
    "When you modify a mutable object, the changes are made in place, \n",
    "meaning the original object is modified rather than creating a new one. \n",
    "\n",
    "Examples of mutable data types in Python:\n",
    "\n",
    "list: Lists are mutable. You can add, remove, or modify elements in a list.\n",
    "dict: Dictionaries are mutable. You can add, remove, or modify key-value pairs.\n",
    "set: Sets are mutable. You can add or remove elements from a set.\n",
    "bytearray: A mutable version of bytes.\"\"\""
   ]
  },
  {
   "cell_type": "code",
   "execution_count": 51,
   "id": "32989742",
   "metadata": {},
   "outputs": [
    {
     "name": "stdout",
     "output_type": "stream",
     "text": [
      "Before modification: numbers = [1, 2, 3]\n",
      "After modification: numbers = [10, 2, 3, 4]\n"
     ]
    }
   ],
   "source": [
    "# Example of a mutable data type: list\n",
    "numbers = [1, 2, 3]\n",
    "print(\"Before modification: numbers =\", numbers)\n",
    "\n",
    "# Modifying the list\n",
    "numbers.append(4)\n",
    "numbers[0] = 10\n",
    "\n",
    "print(\"After modification: numbers =\", numbers)  # The list has been modified in place.\n"
   ]
  },
  {
   "cell_type": "markdown",
   "id": "fe676193",
   "metadata": {},
   "source": [
    "# Q.9. Write a code to create the given structure using only for loop."
   ]
  },
  {
   "cell_type": "code",
   "execution_count": 52,
   "id": "d5e2def6",
   "metadata": {},
   "outputs": [
    {
     "name": "stdout",
     "output_type": "stream",
     "text": [
      "    *\n",
      "   ***\n",
      "  *****\n",
      " *******\n",
      "*********\n"
     ]
    }
   ],
   "source": [
    "# Define the number of rows in the structure\n",
    "num_rows = 5\n",
    "\n",
    "# Outer loop to handle rows\n",
    "for i in range(num_rows):\n",
    "    # Inner loop to handle spaces before stars\n",
    "    for j in range(num_rows - i - 1):\n",
    "        print(\" \", end=\"\")\n",
    "        \n",
    "    # Inner loop to handle stars\n",
    "    for k in range(2 * i + 1):\n",
    "        print(\"*\", end=\"\")\n",
    "    \n",
    "    # Move to the next line for the next row\n",
    "    print()\n"
   ]
  },
  {
   "cell_type": "code",
   "execution_count": 53,
   "id": "f64093fe",
   "metadata": {},
   "outputs": [
    {
     "name": "stdout",
     "output_type": "stream",
     "text": [
      "|||||||||\n",
      " |||||||\n",
      "  |||||\n",
      "   |||\n",
      "    |\n"
     ]
    }
   ],
   "source": [
    "def print_structure(rows):\n",
    "    num_pipes = rows * 2 - 1\n",
    "    num_spaces = 0\n",
    "\n",
    "    while rows > 0:\n",
    "        # Print spaces\n",
    "        spaces = ' ' * num_spaces\n",
    "        # Print pipes\n",
    "        pipes = '|' * num_pipes\n",
    "\n",
    "        # Combine spaces and pipes and print the row\n",
    "        print(spaces + pipes)\n",
    "\n",
    "        # Update variables for the next row\n",
    "        num_pipes -= 2\n",
    "        num_spaces += 1\n",
    "        rows -= 1\n",
    "\n",
    "# Call the function with the desired number of rows\n",
    "print_structure(5)\n"
   ]
  },
  {
   "cell_type": "code",
   "execution_count": null,
   "id": "b791d0de",
   "metadata": {},
   "outputs": [],
   "source": []
  }
 ],
 "metadata": {
  "kernelspec": {
   "display_name": "Python 3 (ipykernel)",
   "language": "python",
   "name": "python3"
  },
  "language_info": {
   "codemirror_mode": {
    "name": "ipython",
    "version": 3
   },
   "file_extension": ".py",
   "mimetype": "text/x-python",
   "name": "python",
   "nbconvert_exporter": "python",
   "pygments_lexer": "ipython3",
   "version": "3.10.9"
  }
 },
 "nbformat": 4,
 "nbformat_minor": 5
}
